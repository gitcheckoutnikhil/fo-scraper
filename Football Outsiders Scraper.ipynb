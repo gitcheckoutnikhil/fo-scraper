{
 "cells": [
  {
   "cell_type": "code",
   "execution_count": 1,
   "metadata": {
    "collapsed": false
   },
   "outputs": [],
   "source": [
    "import pandas as pd\n",
    "import pandas.io\n",
    "from bs4 import BeautifulSoup\n",
    "import urllib2"
   ]
  },
  {
   "cell_type": "code",
   "execution_count": 91,
   "metadata": {
    "collapsed": false,
    "scrolled": true
   },
   "outputs": [],
   "source": [
    "def convert_DVOA_table(theTable):\n",
    "    tableList = []\n",
    "    for tr in theTable.find_all('tr'):\n",
    "        tds = tr.find_all('td')\n",
    "        if tds == []:\n",
    "            continue\n",
    "        tableRow = []\n",
    "        for thisCell in tds:\n",
    "            try:\n",
    "                tableRow.append(float(thisCell.text.replace('%','')))\n",
    "            except:\n",
    "                tableRow.append(thisCell.text.replace('%',''))\n",
    "        if tableRow[0] != '':\n",
    "            tableList.append(tableRow)\n",
    "    return tableList\n",
    "\n",
    "def ann_off_data(annumrange):\n",
    "    offtable = {}\n",
    "    for annum in annumrange:\n",
    "        if annum == 2015:\n",
    "            tableurl = \"http://www.footballoutsiders.com/stats/teamoff\"\n",
    "        else:\n",
    "            tableurl = \"http://www.footballoutsiders.com/stats/teamoff\" + str(annum)\n",
    "        soup = BeautifulSoup(urllib2.urlopen(tableurl).read())\n",
    "        stattable = soup.find(\"table\", class_ = \"stats\")\n",
    "        statarray = convert_DVOA_table(stattable)\n",
    "        if len(statarray[0]) == 17:\n",
    "            cols = ['Overall Rank','Team',\\\n",
    "                    'Off DVOA','Last Year',\\\n",
    "                    'Wt. Off DVOA','Wt. Off Rank',\\\n",
    "                    'Pass Off DVOA','Pass Rank',\\\n",
    "                    'Rush Off DVOA','Rush Rank',\\\n",
    "                    'NAdj DVOA','NAdj Pass DVOA','NAdj Rush DVOA',\\\n",
    "                    'Variance','Var Rank',\\\n",
    "                    'Schedule','Rank'\\\n",
    "                   ]\n",
    "        else:\n",
    "            cols = ['Overall Rank','Team','Off DVOA',\\\n",
    "                    'Wt. Off DVOA','Wt. Off Rank',\\\n",
    "                    'Pass Off DVOA','Pass Rank',\\\n",
    "                    'Rush Off DVOA','Rush Rank',\\\n",
    "                    'NAdj DVOA','NAdj Pass DVOA','NAdj Rush DVOA',\\\n",
    "                    'Variance','Var Rank',\\\n",
    "                    'Schedule','Rank'\\\n",
    "                   ]\n",
    "        offtable[annum] = pd.DataFrame(statarray, columns=cols)\n",
    "    return offtable\n",
    "\n",
    "def ann_def_data(annumrange):\n",
    "    deftable = {}\n",
    "    \n",
    "    for annum in annumrange:\n",
    "        if annum == 2015:\n",
    "            tableurl = \"http://www.footballoutsiders.com/stats/teamdef\"\n",
    "        else:\n",
    "            tableurl = \"http://www.footballoutsiders.com/stats/teamdef\" + str(annum)\n",
    "        soup = BeautifulSoup(urllib2.urlopen(tableurl).read())\n",
    "        stattable = soup.find(\"table\", class_ = \"stats\")\n",
    "        statarray = convert_DVOA_table(stattable)\n",
    "        if len(statarray[0]) == 17:\n",
    "            cols = ['Overall Rank','Team',\\\n",
    "                    'Def DVOA','Last Year',\\\n",
    "                    'Wt. Def DVOA','Wt. Def Rank',\\\n",
    "                    'Pass Def DVOA','Pass Rank',\\\n",
    "                    'Rush Def DVOA','Rush Rank',\\\n",
    "                    'NAdj DVOA','NAdj Pass DVOA','NAdj Rush DVOA',\\\n",
    "                    'Variance','Var Rank',\\\n",
    "                    'Schedule','Rank'\\\n",
    "                   ]\n",
    "        else:\n",
    "            cols = ['Overall Rank','Team','Def DVOA',\\\n",
    "                    'Wt. Def DVOA','Wt. Def Rank',\\\n",
    "                    'Pass Def DVOA','Pass Rank',\\\n",
    "                    'Rush Def DVOA','Rush Rank',\\\n",
    "                    'NAdj DVOA','NAdj Pass DVOA','NAdj Rush DVOA',\\\n",
    "                    'Variance','Var Rank',\\\n",
    "                    'Schedule','Rank'\\\n",
    "                   ]\n",
    "        \n",
    "        deftable[annum] = pd.DataFrame(statarray, columns=cols)\n",
    "    return deftable\n"
   ]
  },
  {
   "cell_type": "code",
   "execution_count": 92,
   "metadata": {
    "collapsed": false,
    "scrolled": true
   },
   "outputs": [
    {
     "data": {
      "text/plain": []
     },
     "execution_count": 92,
     "metadata": {},
     "output_type": "execute_result"
    }
   ],
   "source": [
    "offense = ann_off_data(range(1989,2016))\n",
    "offense"
   ]
  },
  {
   "cell_type": "code",
   "execution_count": 93,
   "metadata": {
    "collapsed": false,
    "scrolled": true
   },
   "outputs": [
    {
     "data": {
      "text/plain": []
     },
     "execution_count": 93,
     "metadata": {},
     "output_type": "execute_result"
    }
   ],
   "source": [
    "defense = ann_def_data(range(1989,2016))\n",
    "defense"
   ]
  },
  {
   "cell_type": "code",
   "execution_count": null,
   "metadata": {
    "collapsed": true
   },
   "outputs": [],
   "source": []
  },
  {
   "cell_type": "code",
   "execution_count": 103,
   "metadata": {
    "collapsed": false
   },
   "outputs": [
    {
     "data": {
      "text/html": [],
      "text/plain": []
     },
     "execution_count": 103,
     "metadata": {},
     "output_type": "execute_result"
    }
   ],
   "source": [
    "array = []\n",
    "for year in range(1989,2016):\n",
    "    array.append(\\\n",
    "                 [year, \\\n",
    "                  offense[year]['Off DVOA'].median(),\\\n",
    "                  offense[year]['Pass Off DVOA'].median(),\\\n",
    "                  offense[year]['Rush Off DVOA'].median(),\\\n",
    "                  defense[year]['Def DVOA'].median(),\\\n",
    "                  defense[year]['Pass Def DVOA'].median(),\\\n",
    "                  defense[year]['Rush Def DVOA'].median()\\\n",
    "                 ]\n",
    "                )\n",
    "array\n",
    "\n",
    "StatsTable = pd.DataFrame(array, columns=['year','Off', 'Off Pass','Off Rush','Def','Def Pass','Def Rush'])\n",
    "StatsTable"
   ]
  },
  {
   "cell_type": "code",
   "execution_count": 110,
   "metadata": {
    "collapsed": false,
    "scrolled": true
   },
   "outputs": [
    {
     "data": {
      "text/html": [],
      "text/plain": []
     },
     "execution_count": 110,
     "metadata": {},
     "output_type": "execute_result"
    }
   ],
   "source": [
    "StatsTable.set_index('year',inplace=True)\n",
    "StatsTable"
   ]
  },
  {
   "cell_type": "code",
   "execution_count": 111,
   "metadata": {
    "collapsed": true
   },
   "outputs": [],
   "source": [
    "StatsTable.to_clipboard()"
   ]
  },
  {
   "cell_type": "code",
   "execution_count": null,
   "metadata": {
    "collapsed": true
   },
   "outputs": [],
   "source": []
  }
 ],
 "metadata": {
  "kernelspec": {
   "display_name": "Python 2",
   "language": "python",
   "name": "python2"
  },
  "language_info": {
   "codemirror_mode": {
    "name": "ipython",
    "version": 2
   },
   "file_extension": ".py",
   "mimetype": "text/x-python",
   "name": "python",
   "nbconvert_exporter": "python",
   "pygments_lexer": "ipython2",
   "version": "2.7.11"
  }
 },
 "nbformat": 4,
 "nbformat_minor": 0
}

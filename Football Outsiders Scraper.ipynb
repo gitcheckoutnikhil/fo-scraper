{
 "cells": [
  {
   "cell_type": "code",
   "execution_count": 78,
   "metadata": {
    "collapsed": false
   },
   "outputs": [],
   "source": [
    "import pandas as pd\n",
    "import pandas.io\n",
    "from bs4 import BeautifulSoup\n",
    "import urllib2"
   ]
  },
  {
   "cell_type": "code",
   "execution_count": 161,
   "metadata": {
    "collapsed": false,
    "scrolled": true
   },
   "outputs": [],
   "source": [
    "def convert_DVOA_table(stattable):\n",
    "    tableList = []\n",
    "    for tr in stattable.find_all('tr'):\n",
    "        tds = tr.find_all('td')\n",
    "        tableRow = []\n",
    "        for thisCell in tds:\n",
    "            try:\n",
    "                tableRow.append(float(thisCell.text.replace('%','')))\n",
    "            except:\n",
    "                tableRow.append(thisCell.text.replace('%',''))\n",
    "        if tableRow[0] != '':\n",
    "            tableList.append(tableRow)\n",
    "    return tableList\n",
    "\n",
    "def ann_off_data(annumrange):\n",
    "    offtable = {}\n",
    "    \n",
    "    for annum in annumrange:\n",
    "        if annum == 2015:\n",
    "            tableurl = \"http://www.footballoutsiders.com/stats/teamoff\"\n",
    "        else:\n",
    "            tableurl = \"http://www.footballoutsiders.com/stats/teamoff\" + str(annum)\n",
    "        soup = BeautifulSoup(urllib2.urlopen(tableurl).read())\n",
    "        stattable = soup.find(\"table\", class_ = \"stats\")\n",
    "        statarray = convert_DVOA_table(stattable)\n",
    "        if len(statarray) == 17:\n",
    "            cols = ['Overall Rank','Team',\\\n",
    "                    'Off DVOA','Last Year',\\\n",
    "                    'Wt. Off DVOA','Wt. Off Rank',\\\n",
    "                    'Pass Off DVOA','Pass Rank',\\\n",
    "                    'Rush Off DVOA','Rush Rank',\\\n",
    "                    'NAdj DVOA','NAdj Pass DVOA','NAdj Rush DVOA',\\\n",
    "                    'Variance','Var Rank',\\\n",
    "                    'Schedule','Rank'\\\n",
    "                   ]\n",
    "        else:\n",
    "            cols = ['Overall Rank','Team','Off DVOA',\\\n",
    "                    'Wt. Off DVOA','Wt. Off Rank',\\\n",
    "                    'Pass Off DVOA','Pass Rank',\\\n",
    "                    'Rush Off DVOA','Rush Rank',\\\n",
    "                    'NAdj DVOA','NAdj Pass DVOA','NAdj Rush DVOA',\\\n",
    "                    'Variance','Var Rank',\\\n",
    "                    'Schedule','Rank'\\\n",
    "                   ]\n",
    "        offtable[annum] = pd.DataFrame(statarray, columns=cols)\n",
    "    return offtable\n",
    "\n",
    "def ann_def_data(annumrange):\n",
    "    deftable = {}\n",
    "    \n",
    "    for annum in annumrange:\n",
    "        if annum == 2015:\n",
    "            tableurl = \"http://www.footballoutsiders.com/stats/teamoff\"\n",
    "        else:\n",
    "            tableurl = \"http://www.footballoutsiders.com/stats/teamoff\" + str(annum)\n",
    "        soup = BeautifulSoup(urllib2.urlopen(tableurl).read())\n",
    "        stattable = soup.find(\"table\", class_ = \"stats\")\n",
    "        statarray = convert_DVOA_table(stattable)\n",
    "        if len(statarray) == 17:\n",
    "            cols = ['Overall Rank','Team',\\\n",
    "                    'Def DVOA','Last Year',\\\n",
    "                    'Wt. Def DVOA','Wt. Def Rank',\\\n",
    "                    'Pass Def DVOA','Pass Rank',\\\n",
    "                    'Rush Def DVOA','Rush Rank',\\\n",
    "                    'NAdj DVOA','NAdj Pass DVOA','NAdj Rush DVOA',\\\n",
    "                    'Variance','Var Rank',\\\n",
    "                    'Schedule','Rank'\\\n",
    "                   ]\n",
    "        else:\n",
    "            cols = ['Overall Rank','Team','Def DVOA',\\\n",
    "                    'Wt. Def DVOA','Wt. Def Rank',\\\n",
    "                    'Pass Def DVOA','Pass Rank',\\\n",
    "                    'Rush Def DVOA','Rush Rank',\\\n",
    "                    'NAdj DVOA','NAdj Pass DVOA','NAdj Rush DVOA',\\\n",
    "                    'Variance','Var Rank',\\\n",
    "                    'Schedule','Rank'\\\n",
    "                   ]\n",
    "        \n",
    "        deftable[annum] = pd.DataFrame(statarray, columns=cols)\n",
    "    return deftable\n"
   ]
  },
  {
   "cell_type": "code",
   "execution_count": 163,
   "metadata": {
    "collapsed": false
   },
   "outputs": [
    {
     "data": {
      "text/plain": [
       "{1991:     Overall Rank  Team  Def DVOA  Wt. Def DVOA  Wt. Def Rank  Pass Def DVOA  \\\n",
       " 0              1   WAS      27.2          28.6             2           65.0   \n",
       " 1              2    SF      24.0          29.5             1           43.1   \n",
       " 2              3   BUF      21.5          16.2             5           35.3   \n",
       " 3              4   DAL      17.6          16.9             4           33.6   \n",
       " 4              5    KC      13.3          11.0             8           27.9   \n",
       " 5              6   NYG      12.5          13.2             7           23.7   \n",
       " 6              7   MIA      12.2          15.2             6           28.4   \n",
       " 7              8   MIN      11.8          18.3             3            5.4   \n",
       " 8              9  HOIL       9.2           8.8            10           21.2   \n",
       " 9             10   CHI       5.3           5.5            13           16.7   \n",
       " 10            11    SD       4.7           5.9            12           -0.5   \n",
       " 11            12   NYJ       4.7           2.8            14           11.7   \n",
       " 12            13  CLE1       3.7           6.4            11           24.5   \n",
       " 13            14   ATL       3.5           9.4             9           19.2   \n",
       " 14            15  LARM       0.4           2.6            16           15.5   \n",
       " 15            16  LARD      -0.9           2.5            17            9.6   \n",
       " 16            17    NO      -1.7           2.7            15           13.8   \n",
       " 17            18   DEN      -1.8         -10.0            19            2.7   \n",
       " 18            19   DET      -2.6          -4.9            18           -3.0   \n",
       " 19            20   PIT      -8.6         -11.3            20           -2.8   \n",
       " 20            21   CIN      -9.8         -12.0            22            0.0   \n",
       " 21            22   SEA     -14.9         -19.4            23          -14.8   \n",
       " 22            23    GB     -15.9         -12.0            21          -15.2   \n",
       " 23            24   PHX     -20.4         -23.0            26          -22.8   \n",
       " 24            25    NE     -23.7         -20.3            24          -15.7   \n",
       " 25            26   PHI     -24.6         -20.6            25          -17.8   \n",
       " 26            27    TB     -28.4         -33.2            27          -37.6   \n",
       " 27            28   IND     -32.8         -34.9            28          -29.0   \n",
       " \n",
       "     Pass Rank  Rush Def DVOA  Rush Rank  NAdj DVOA  NAdj Pass DVOA  \\\n",
       " 0           1            5.9          9       26.0            62.8   \n",
       " 1           2           12.7          4       21.5            40.5   \n",
       " 2           3           14.2          3       26.1            43.9   \n",
       " 3           4            6.3          7       10.2            21.8   \n",
       " 4           6            9.8          6       11.4            23.7   \n",
       " 5           8           11.9          5       10.8            22.9   \n",
       " 6           5           -6.7         18       16.6            34.8   \n",
       " 7          16           23.6          1       11.6             6.3   \n",
       " 8           9            0.6         13       11.5            24.4   \n",
       " 9          11            1.9         11        5.7            16.2   \n",
       " 10         19           15.0          2        2.3            -3.6   \n",
       " 11         14            5.0         10        8.6            17.4   \n",
       " 12          7           -8.9         20        4.3            25.9   \n",
       " 13         10           -5.0         15        2.4            18.6   \n",
       " 14         12          -11.0         24       -3.5             9.0   \n",
       " 15         15           -0.6         14       -3.0             5.7   \n",
       " 16         13           -5.7         16       -1.4            16.0   \n",
       " 17         17            1.7         12       -1.2             6.1   \n",
       " 18         21            6.0          8        1.3             1.5   \n",
       " 19         20           -5.7         17       -7.6            -1.3   \n",
       " 20         18           -9.1         21      -12.2            -3.0   \n",
       " 21         22           -6.9         19      -14.8           -15.6   \n",
       " 22         23           -9.5         22      -14.7           -13.5   \n",
       " 23         26          -12.0         25      -26.2           -30.0   \n",
       " 24         24          -20.5         26      -18.9           -11.4   \n",
       " 25         25          -23.0         27      -22.9           -18.3   \n",
       " 26         28          -10.6         23      -30.2           -42.2   \n",
       " 27         27          -30.2         28      -29.7           -23.6   \n",
       " \n",
       "     NAdj Rush DVOA  Variance  Var Rank  Schedule  Rank  \n",
       " 0              5.4       5.0         6      -1.3    11  \n",
       " 1             10.2      10.5        25      -3.3     5  \n",
       " 2             15.2      10.0        22       5.6    28  \n",
       " 3              3.5       9.1        18      -7.3     1  \n",
       " 4              9.8       6.8        13      -2.0     8  \n",
       " 5              9.5       6.2        11      -4.9     3  \n",
       " 6             -4.9       4.6         4       3.9    26  \n",
       " 7             22.3      11.5        26      -0.8    14  \n",
       " 8              1.4       4.2         2       0.0    17  \n",
       " 9              3.2       4.1         1       0.9    20  \n",
       " 10            13.2       4.2         3      -2.1     7  \n",
       " 11             7.5       6.1        10       3.8    25  \n",
       " 12            -9.3      10.5        24      -0.7    15  \n",
       " 13            -6.7      10.1        23      -1.7     9  \n",
       " 14           -11.7       6.8        12      -3.8     4  \n",
       " 15            -1.4       9.2        19      -1.5    10  \n",
       " 16            -7.0       5.4         7       0.6    19  \n",
       " 17             0.0       4.7         5       1.5    21  \n",
       " 18             9.4       5.4         8       3.1    24  \n",
       " 19            -5.1       7.8        16      -1.2    12  \n",
       " 20           -11.0       9.9        21      -3.1     6  \n",
       " 21            -5.8       5.5         9       0.1    18  \n",
       " 22            -8.8       6.9        14       2.4    22  \n",
       " 23           -16.3       7.6        15      -5.5     2  \n",
       " 24           -15.1       8.1        17       4.7    27  \n",
       " 25           -18.9      12.8        27      -0.7    16  \n",
       " 26            -9.0      21.4        28      -1.1    13  \n",
       " 27           -30.3       9.3        20       3.0    23  }"
      ]
     },
     "execution_count": 163,
     "metadata": {},
     "output_type": "execute_result"
    }
   ],
   "source": [
    "foo = ann_def_data([1991])\n",
    "foo"
   ]
  },
  {
   "cell_type": "code",
   "execution_count": 165,
   "metadata": {
    "collapsed": false
   },
   "outputs": [
    {
     "data": {
      "text/plain": [
       "10.649999999999999"
      ]
     },
     "execution_count": 165,
     "metadata": {},
     "output_type": "execute_result"
    }
   ],
   "source": [
    "foo[1991]['Pass Def DVOA'].median()"
   ]
  }
 ],
 "metadata": {
  "kernelspec": {
   "display_name": "Python 2",
   "language": "python",
   "name": "python2"
  },
  "language_info": {
   "codemirror_mode": {
    "name": "ipython",
    "version": 2
   },
   "file_extension": ".py",
   "mimetype": "text/x-python",
   "name": "python",
   "nbconvert_exporter": "python",
   "pygments_lexer": "ipython2",
   "version": "2.7.11"
  }
 },
 "nbformat": 4,
 "nbformat_minor": 0
}
